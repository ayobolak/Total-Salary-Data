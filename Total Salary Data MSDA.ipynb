{
 "cells": [
  {
   "cell_type": "code",
   "execution_count": 1,
   "id": "3c907e3b",
   "metadata": {},
   "outputs": [],
   "source": [
    "import pandas as pd\n",
    "import matplotlib.pyplot as plt\n",
    "import numpy as np\n",
    "import seaborn as sns"
   ]
  },
  {
   "cell_type": "code",
   "execution_count": 2,
   "id": "e72d7b90",
   "metadata": {},
   "outputs": [
    {
     "name": "stderr",
     "output_type": "stream",
     "text": [
      "C:\\Users\\Ayobola Kazeem\\AppData\\Local\\Temp\\ipykernel_34764\\3625144249.py:1: DtypeWarning: Columns (2,3,4,5) have mixed types. Specify dtype option on import or set low_memory=False.\n",
      "  df=pd.read_csv('Total.csv')\n"
     ]
    }
   ],
   "source": [
    "#Import Data\n",
    "\n",
    "df=pd.read_csv('Total.csv')"
   ]
  },
  {
   "cell_type": "code",
   "execution_count": 3,
   "id": "3c73f5d0",
   "metadata": {},
   "outputs": [
    {
     "data": {
      "text/html": [
       "<div>\n",
       "<style scoped>\n",
       "    .dataframe tbody tr th:only-of-type {\n",
       "        vertical-align: middle;\n",
       "    }\n",
       "\n",
       "    .dataframe tbody tr th {\n",
       "        vertical-align: top;\n",
       "    }\n",
       "\n",
       "    .dataframe thead th {\n",
       "        text-align: right;\n",
       "    }\n",
       "</style>\n",
       "<table border=\"1\" class=\"dataframe\">\n",
       "  <thead>\n",
       "    <tr style=\"text-align: right;\">\n",
       "      <th></th>\n",
       "      <th>EmployeeName</th>\n",
       "      <th>JobTitle</th>\n",
       "      <th>BasePay</th>\n",
       "      <th>OvertimePay</th>\n",
       "      <th>OtherPay</th>\n",
       "      <th>Benefits</th>\n",
       "      <th>TotalPay</th>\n",
       "      <th>TotalPayBenefits</th>\n",
       "      <th>Year</th>\n",
       "    </tr>\n",
       "  </thead>\n",
       "  <tbody>\n",
       "    <tr>\n",
       "      <th>0</th>\n",
       "      <td>NATHANIEL FORD</td>\n",
       "      <td>GENERAL MANAGER-METROPOLITAN TRANSIT AUTHORITY</td>\n",
       "      <td>167411.18</td>\n",
       "      <td>0.0</td>\n",
       "      <td>400184.25</td>\n",
       "      <td>Not Provided</td>\n",
       "      <td>567595.43</td>\n",
       "      <td>567595.43</td>\n",
       "      <td>2011</td>\n",
       "    </tr>\n",
       "    <tr>\n",
       "      <th>1</th>\n",
       "      <td>GARY JIMENEZ</td>\n",
       "      <td>CAPTAIN III (POLICE DEPARTMENT)</td>\n",
       "      <td>155966.02</td>\n",
       "      <td>245131.88</td>\n",
       "      <td>137811.38</td>\n",
       "      <td>Not Provided</td>\n",
       "      <td>538909.28</td>\n",
       "      <td>538909.28</td>\n",
       "      <td>2011</td>\n",
       "    </tr>\n",
       "    <tr>\n",
       "      <th>2</th>\n",
       "      <td>ALBERT PARDINI</td>\n",
       "      <td>CAPTAIN III (POLICE DEPARTMENT)</td>\n",
       "      <td>212739.13</td>\n",
       "      <td>106088.18</td>\n",
       "      <td>16452.6</td>\n",
       "      <td>Not Provided</td>\n",
       "      <td>335279.91</td>\n",
       "      <td>335279.91</td>\n",
       "      <td>2011</td>\n",
       "    </tr>\n",
       "    <tr>\n",
       "      <th>3</th>\n",
       "      <td>CHRISTOPHER CHONG</td>\n",
       "      <td>WIRE ROPE CABLE MAINTENANCE MECHANIC</td>\n",
       "      <td>77916.0</td>\n",
       "      <td>56120.71</td>\n",
       "      <td>198306.9</td>\n",
       "      <td>Not Provided</td>\n",
       "      <td>332343.61</td>\n",
       "      <td>332343.61</td>\n",
       "      <td>2011</td>\n",
       "    </tr>\n",
       "    <tr>\n",
       "      <th>4</th>\n",
       "      <td>PATRICK GARDNER</td>\n",
       "      <td>DEPUTY CHIEF OF DEPARTMENT,(FIRE DEPARTMENT)</td>\n",
       "      <td>134401.6</td>\n",
       "      <td>9737.0</td>\n",
       "      <td>182234.59</td>\n",
       "      <td>Not Provided</td>\n",
       "      <td>326373.19</td>\n",
       "      <td>326373.19</td>\n",
       "      <td>2011</td>\n",
       "    </tr>\n",
       "    <tr>\n",
       "      <th>5</th>\n",
       "      <td>DAVID SULLIVAN</td>\n",
       "      <td>ASSISTANT DEPUTY CHIEF II</td>\n",
       "      <td>118602.0</td>\n",
       "      <td>8601.0</td>\n",
       "      <td>189082.74</td>\n",
       "      <td>Not Provided</td>\n",
       "      <td>316285.74</td>\n",
       "      <td>316285.74</td>\n",
       "      <td>2011</td>\n",
       "    </tr>\n",
       "    <tr>\n",
       "      <th>6</th>\n",
       "      <td>ALSON LEE</td>\n",
       "      <td>BATTALION CHIEF, (FIRE DEPARTMENT)</td>\n",
       "      <td>92492.01</td>\n",
       "      <td>89062.9</td>\n",
       "      <td>134426.14</td>\n",
       "      <td>Not Provided</td>\n",
       "      <td>315981.05</td>\n",
       "      <td>315981.05</td>\n",
       "      <td>2011</td>\n",
       "    </tr>\n",
       "    <tr>\n",
       "      <th>7</th>\n",
       "      <td>DAVID KUSHNER</td>\n",
       "      <td>DEPUTY DIRECTOR OF INVESTMENTS</td>\n",
       "      <td>256576.96</td>\n",
       "      <td>0.0</td>\n",
       "      <td>51322.5</td>\n",
       "      <td>Not Provided</td>\n",
       "      <td>307899.46</td>\n",
       "      <td>307899.46</td>\n",
       "      <td>2011</td>\n",
       "    </tr>\n",
       "    <tr>\n",
       "      <th>8</th>\n",
       "      <td>MICHAEL MORRIS</td>\n",
       "      <td>BATTALION CHIEF, (FIRE DEPARTMENT)</td>\n",
       "      <td>176932.64</td>\n",
       "      <td>86362.68</td>\n",
       "      <td>40132.23</td>\n",
       "      <td>Not Provided</td>\n",
       "      <td>303427.55</td>\n",
       "      <td>303427.55</td>\n",
       "      <td>2011</td>\n",
       "    </tr>\n",
       "    <tr>\n",
       "      <th>9</th>\n",
       "      <td>JOANNE HAYES-WHITE</td>\n",
       "      <td>CHIEF OF DEPARTMENT, (FIRE DEPARTMENT)</td>\n",
       "      <td>285262.0</td>\n",
       "      <td>0.0</td>\n",
       "      <td>17115.73</td>\n",
       "      <td>Not Provided</td>\n",
       "      <td>302377.73</td>\n",
       "      <td>302377.73</td>\n",
       "      <td>2011</td>\n",
       "    </tr>\n",
       "  </tbody>\n",
       "</table>\n",
       "</div>"
      ],
      "text/plain": [
       "         EmployeeName                                        JobTitle  \\\n",
       "0      NATHANIEL FORD  GENERAL MANAGER-METROPOLITAN TRANSIT AUTHORITY   \n",
       "1        GARY JIMENEZ                 CAPTAIN III (POLICE DEPARTMENT)   \n",
       "2      ALBERT PARDINI                 CAPTAIN III (POLICE DEPARTMENT)   \n",
       "3   CHRISTOPHER CHONG            WIRE ROPE CABLE MAINTENANCE MECHANIC   \n",
       "4     PATRICK GARDNER    DEPUTY CHIEF OF DEPARTMENT,(FIRE DEPARTMENT)   \n",
       "5      DAVID SULLIVAN                       ASSISTANT DEPUTY CHIEF II   \n",
       "6           ALSON LEE              BATTALION CHIEF, (FIRE DEPARTMENT)   \n",
       "7       DAVID KUSHNER                  DEPUTY DIRECTOR OF INVESTMENTS   \n",
       "8      MICHAEL MORRIS              BATTALION CHIEF, (FIRE DEPARTMENT)   \n",
       "9  JOANNE HAYES-WHITE          CHIEF OF DEPARTMENT, (FIRE DEPARTMENT)   \n",
       "\n",
       "     BasePay OvertimePay   OtherPay      Benefits   TotalPay  \\\n",
       "0  167411.18         0.0  400184.25  Not Provided  567595.43   \n",
       "1  155966.02   245131.88  137811.38  Not Provided  538909.28   \n",
       "2  212739.13   106088.18    16452.6  Not Provided  335279.91   \n",
       "3    77916.0    56120.71   198306.9  Not Provided  332343.61   \n",
       "4   134401.6      9737.0  182234.59  Not Provided  326373.19   \n",
       "5   118602.0      8601.0  189082.74  Not Provided  316285.74   \n",
       "6   92492.01     89062.9  134426.14  Not Provided  315981.05   \n",
       "7  256576.96         0.0    51322.5  Not Provided  307899.46   \n",
       "8  176932.64    86362.68   40132.23  Not Provided  303427.55   \n",
       "9   285262.0         0.0   17115.73  Not Provided  302377.73   \n",
       "\n",
       "   TotalPayBenefits  Year  \n",
       "0         567595.43  2011  \n",
       "1         538909.28  2011  \n",
       "2         335279.91  2011  \n",
       "3         332343.61  2011  \n",
       "4         326373.19  2011  \n",
       "5         316285.74  2011  \n",
       "6         315981.05  2011  \n",
       "7         307899.46  2011  \n",
       "8         303427.55  2011  \n",
       "9         302377.73  2011  "
      ]
     },
     "execution_count": 3,
     "metadata": {},
     "output_type": "execute_result"
    }
   ],
   "source": [
    "#display data\n",
    "\n",
    "df.head(10)"
   ]
  },
  {
   "cell_type": "code",
   "execution_count": 27,
   "id": "6442fdbb",
   "metadata": {},
   "outputs": [],
   "source": [
    "#Get Employee Function (with error handling)\n",
    "\n",
    "def get_employee_details(name):\n",
    "    \n",
    "    # Search case-insensitively\n",
    "    employee = df[df['EmployeeName'].str.lower() == name.lower()]\n",
    "    \n",
    "    if not employee.empty:\n",
    "        return employee\n",
    "    else:\n",
    "        raise ValueError(f\"No employee found with name '{name}'\")\n",
    "            "
   ]
  },
  {
   "cell_type": "code",
   "execution_count": 44,
   "id": "bb5f6f8a",
   "metadata": {},
   "outputs": [
    {
     "ename": "ValueError",
     "evalue": "No employee found with name 'Ghost'",
     "output_type": "error",
     "traceback": [
      "\u001b[1;31m---------------------------------------------------------------------------\u001b[0m",
      "\u001b[1;31mValueError\u001b[0m                                Traceback (most recent call last)",
      "\u001b[1;32m~\\AppData\\Local\\Temp\\ipykernel_34764\\3378399099.py\u001b[0m in \u001b[0;36m<module>\u001b[1;34m\u001b[0m\n\u001b[1;32m----> 1\u001b[1;33m \u001b[0mprint\u001b[0m\u001b[1;33m(\u001b[0m\u001b[0mget_employee_details\u001b[0m\u001b[1;33m(\u001b[0m\u001b[1;34m\"Ghost\"\u001b[0m\u001b[1;33m)\u001b[0m\u001b[1;33m)\u001b[0m\u001b[1;33m\u001b[0m\u001b[1;33m\u001b[0m\u001b[0m\n\u001b[0m",
      "\u001b[1;32m~\\AppData\\Local\\Temp\\ipykernel_34764\\641558634.py\u001b[0m in \u001b[0;36mget_employee_details\u001b[1;34m(name)\u001b[0m\n\u001b[0;32m      7\u001b[0m         \u001b[1;32mreturn\u001b[0m \u001b[0memployee\u001b[0m\u001b[1;33m\u001b[0m\u001b[1;33m\u001b[0m\u001b[0m\n\u001b[0;32m      8\u001b[0m     \u001b[1;32melse\u001b[0m\u001b[1;33m:\u001b[0m\u001b[1;33m\u001b[0m\u001b[1;33m\u001b[0m\u001b[0m\n\u001b[1;32m----> 9\u001b[1;33m         \u001b[1;32mraise\u001b[0m \u001b[0mValueError\u001b[0m\u001b[1;33m(\u001b[0m\u001b[1;34mf\"No employee found with name '{name}'\"\u001b[0m\u001b[1;33m)\u001b[0m\u001b[1;33m\u001b[0m\u001b[1;33m\u001b[0m\u001b[0m\n\u001b[0m\u001b[0;32m     10\u001b[0m \u001b[1;33m\u001b[0m\u001b[0m\n",
      "\u001b[1;31mValueError\u001b[0m: No employee found with name 'Ghost'"
     ]
    }
   ],
   "source": [
    "print(get_employee_details(\"Ghost\"))"
   ]
  },
  {
   "cell_type": "code",
   "execution_count": 29,
   "id": "7fb3c492",
   "metadata": {},
   "outputs": [
    {
     "name": "stderr",
     "output_type": "stream",
     "text": [
      "C:\\Users\\Ayobola Kazeem\\AppData\\Local\\Temp\\ipykernel_34764\\457243920.py:3: UserWarning: DataFrame columns are not unique, some columns will be omitted.\n",
      "  salary_dict = df.set_index('EmployeeName').T.to_dict()\n"
     ]
    }
   ],
   "source": [
    "#Covert Data to Dictionary\n",
    "\n",
    "salary_dict = df.set_index('EmployeeName').T.to_dict()"
   ]
  },
  {
   "cell_type": "code",
   "execution_count": 30,
   "id": "72200239",
   "metadata": {},
   "outputs": [
    {
     "name": "stdout",
     "output_type": "stream",
     "text": [
      "       EmployeeName                JobTitle    BasePay OvertimePay OtherPay  \\\n",
      "157447     Jane Doe  Public SafetyComm Disp   93048.61    25824.02      0.0   \n",
      "196694     Jane Doe  Public SafetyComm Disp   90843.11    37830.45   297.88   \n",
      "250998     Jane Doe  Public SafetyComm Disp   59672.77    20542.21   366.90   \n",
      "277369     Jane Doe  Public SafetyComm Disp  103013.58    45625.78   708.42   \n",
      "\n",
      "        Benefits   TotalPay  TotalPayBenefits  Year  \n",
      "157447  32289.29  118872.63         151161.92  2015  \n",
      "196694  29089.21  128971.44         158060.65  2016  \n",
      "250998  23663.01   80581.88         104244.89  2017  \n",
      "277369  35192.94  149347.78         184540.72  2018  \n"
     ]
    }
   ],
   "source": [
    "print(get_employee_details(\"Jane Doe\"))"
   ]
  },
  {
   "cell_type": "code",
   "execution_count": 26,
   "id": "1643153b",
   "metadata": {},
   "outputs": [
    {
     "name": "stdout",
     "output_type": "stream",
     "text": [
      "         EmployeeName                            JobTitle    BasePay  \\\n",
      "8      MICHAEL MORRIS  BATTALION CHIEF, (FIRE DEPARTMENT)  176932.64   \n",
      "17798  MICHAEL MORRIS                        TRUCK DRIVER   67127.89   \n",
      "36179  Michael Morris            Assistant Deputy Chief 2   223371.0   \n",
      "51553  Michael Morris                        Truck Driver    74365.2   \n",
      "\n",
      "      OvertimePay  OtherPay      Benefits   TotalPay  TotalPayBenefits  Year  \n",
      "8        86362.68  40132.23  Not Provided  303427.55         303427.55  2011  \n",
      "17798      110.67   1750.25  Not Provided   68988.81          68988.81  2011  \n",
      "36179     7415.52  63426.03      56202.98  294212.55         350415.53  2012  \n",
      "51553     2130.26   2198.75      33445.77   78694.21         112139.98  2012  \n"
     ]
    }
   ],
   "source": [
    "print(get_employee_details(\"Michael Morris\"))"
   ]
  },
  {
   "cell_type": "code",
   "execution_count": 39,
   "id": "8eb96362",
   "metadata": {},
   "outputs": [
    {
     "name": "stdout",
     "output_type": "stream",
     "text": [
      "Index(['EmployeeName', 'JobTitle', 'BasePay', 'OvertimePay', 'OtherPay',\n",
      "       'Benefits', 'TotalPay', 'TotalPayBenefits', 'Year'],\n",
      "      dtype='object')\n"
     ]
    }
   ],
   "source": [
    "print(df.columns)"
   ]
  },
  {
   "cell_type": "code",
   "execution_count": 36,
   "id": "bea296da",
   "metadata": {},
   "outputs": [],
   "source": [
    "import os\n",
    "import zipfile\n",
    "\n",
    "def export_employee_to_zip(name):\n",
    "    try:\n",
    "        # Match employee by EmployeeName (case-insensitive)\n",
    "        employee = df[df['EmployeeName'].str.lower() == name.lower()]\n",
    "\n",
    "        if employee.empty:\n",
    "            raise ValueError(f\"No employee found with name '{name}'\")\n",
    "\n",
    "        employee = employee.reset_index(drop=True)\n",
    "\n",
    "        # Create folder\n",
    "        folder = \"Employee Profile\"\n",
    "        os.makedirs(folder, exist_ok=True)\n",
    "\n",
    "        # Export CSV\n",
    "        file_name = f\"{name.replace(' ', '_')}.csv\"\n",
    "        file_path = os.path.join(folder, file_name)\n",
    "        employee.to_csv(file_path, index=False)\n",
    "\n",
    "        # Zip it\n",
    "        zip_path = f\"{folder}.zip\"\n",
    "        with zipfile.ZipFile(zip_path, \"w\") as zipf:\n",
    "            zipf.write(file_path, arcname=file_name)\n",
    "\n",
    "        return f\"Exported and zipped successfully: {zip_path}\"\n",
    "\n",
    "    except Exception as e:\n",
    "        return f\"Error: {e}\"\n"
   ]
  },
  {
   "cell_type": "code",
   "execution_count": 38,
   "id": "8bca452a",
   "metadata": {},
   "outputs": [
    {
     "name": "stdout",
     "output_type": "stream",
     "text": [
      "Exported and zipped successfully: Employee Profile.zip\n"
     ]
    }
   ],
   "source": [
    "print(export_employee_to_zip(\"Jane Doe\")) "
   ]
  },
  {
   "cell_type": "code",
   "execution_count": 40,
   "id": "73d25257",
   "metadata": {},
   "outputs": [
    {
     "name": "stdout",
     "output_type": "stream",
     "text": [
      "Error: No employee found with name 'Ghost'\n"
     ]
    }
   ],
   "source": [
    "print(export_employee_to_zip(\"Ghost\"))"
   ]
  },
  {
   "cell_type": "code",
   "execution_count": 43,
   "id": "35f029ca",
   "metadata": {},
   "outputs": [
    {
     "name": "stdout",
     "output_type": "stream",
     "text": [
      "C:\\Users\\Ayobola Kazeem\\Downloads\n"
     ]
    }
   ],
   "source": [
    "import os\n",
    "print(os.getcwd())"
   ]
  },
  {
   "cell_type": "code",
   "execution_count": null,
   "id": "648bf8d6",
   "metadata": {},
   "outputs": [],
   "source": []
  }
 ],
 "metadata": {
  "kernelspec": {
   "display_name": "Python 3 (ipykernel)",
   "language": "python",
   "name": "python3"
  },
  "language_info": {
   "codemirror_mode": {
    "name": "ipython",
    "version": 3
   },
   "file_extension": ".py",
   "mimetype": "text/x-python",
   "name": "python",
   "nbconvert_exporter": "python",
   "pygments_lexer": "ipython3",
   "version": "3.9.13"
  }
 },
 "nbformat": 4,
 "nbformat_minor": 5
}
